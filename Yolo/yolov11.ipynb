{
 "cells": [
  {
   "cell_type": "code",
   "execution_count": null,
   "metadata": {},
   "outputs": [],
   "source": [
    "from ultralytics import YOLO\n",
    "\n",
    "model = YOLO(\"yolo11m.pt\")\n",
    "import torch\n",
    "torch.cuda.empty_cache()\n",
    "model.train(data=\"/home/abhinav/fuel/yolov11_custom_dataset/Fuel Cap.v3i.yolov11/data.yaml\" , imgsz=640, batch =8,epochs=10,workers=0,device='cpu')"
   ]
  },
  {
   "cell_type": "code",
   "execution_count": null,
   "metadata": {},
   "outputs": [],
   "source": [
    "from ultralytics import YOLO\n",
    "import cv2\n",
    "\n",
    "# Load the model\n",
    "model = YOLO('/home/abhinav/fuel/cap_fill_and_flap_yolov8/runs/detect/train4/weights/last.pt')\n",
    "\n",
    "# Run prediction\n",
    "results = model.predict(source=\"test.jpeg\", show=True, save=True)\n",
    "\n",
    "# Process the results\n",
    "for r in results:\n",
    "    boxes = r.boxes\n",
    "    for box in boxes:\n",
    "        # Get bounding box coordinates\n",
    "        x1, y1, x2, y2 = box.xyxy[0]  # tensor: [x1, y1, x2, y2]\n",
    "        x1, y1, x2, y2 = float(x1), float(y1), float(x2), float(y2)\n",
    "\n",
    "        # Calculate centroid\n",
    "        cx = (x1 + x2) / 2\n",
    "        cy = (y1 + y2) / 2\n",
    "\n",
    "        print(f\"BBox: ({x1:.1f}, {y1:.1f}), ({x2:.1f}, {y2:.1f}) | Centroid: ({cx:.1f}, {cy:.1f})\")\n"
   ]
  },
  {
   "cell_type": "code",
   "execution_count": null,
   "metadata": {},
   "outputs": [],
   "source": [
    "\n",
    "from ultralytics import YOLO\n",
    "import os\n",
    "model = YOLO(\"/home/abhinav/fuel/yolo_trained_weights/best_v11.pt\")\n",
    "test = model.predict(\"/home/abhinav/fuel/WhatsApp Image 2025-06-10 at 12.16.29 PM.jpeg\",show=True,save=True)\n"
   ]
  },
  {
   "cell_type": "code",
   "execution_count": null,
   "metadata": {},
   "outputs": [],
   "source": [
    "from ultralytics import YOLO\n",
    "\n",
    "model = YOLO(\"/home/abhinav/fuel/yolo_trained_weights/best_v11.pt\")\n",
    "\n",
    "#  path to your video file\n",
    "video_path = \"/home/abhinav/fuel/WhatsApp Video 2025-06-10 at 12.40.05 PM.mp4\"\n",
    "\n",
    "#  Run inference and display/save results\n",
    "results = model.predict(source=video_path, show=True, save=True)\n"
   ]
  },
  {
   "cell_type": "code",
   "execution_count": null,
   "metadata": {},
   "outputs": [],
   "source": [
    "from ultralytics import YOLO\n",
    "\n",
    "model = YOLO(\"/home/abhinav/fuel/yolo_trained_weights/best_v11.pt\")\n",
    "\n",
    "# 0 might be your Oak-D's webcam device index, try 1, 2, etc., if needed\n",
    "results = model.predict(source=0, show=True)\n"
   ]
  }
 ],
 "metadata": {
  "kernelspec": {
   "display_name": "venv",
   "language": "python",
   "name": "python3"
  },
  "language_info": {
   "codemirror_mode": {
    "name": "ipython",
    "version": 3
   },
   "file_extension": ".py",
   "mimetype": "text/x-python",
   "name": "python",
   "nbconvert_exporter": "python",
   "pygments_lexer": "ipython3",
   "version": "3.10.12"
  }
 },
 "nbformat": 4,
 "nbformat_minor": 2
}
